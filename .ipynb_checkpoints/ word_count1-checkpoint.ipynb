{
 "cells": [
  {
   "cell_type": "code",
   "execution_count": 32,
   "id": "932dd2d4-051b-495e-968d-ccb212720453",
   "metadata": {},
   "outputs": [
    {
     "name": "stdin",
     "output_type": "stream",
     "text": [
      "type a paragraph: i am learning python at takenolab\n"
     ]
    },
    {
     "name": "stdout",
     "output_type": "stream",
     "text": [
      "nums are6\n"
     ]
    }
   ],
   "source": [
    "word=input(\"type a paragraph:\")\n",
    "count=0\n",
    "for i in word:\n",
    "    if i==\" \" or i==\"\\n\":\n",
    "        count+=1\n",
    "print(f\"nums are:{count+1}\")"
   ]
  },
  {
   "cell_type": "code",
   "execution_count": 12,
   "id": "96e675ba-3605-4009-89ca-8a71dcae9443",
   "metadata": {},
   "outputs": [
    {
     "name": "stdout",
     "output_type": "stream",
     "text": [
      "6\n"
     ]
    }
   ],
   "source": [
    "words=[\"i\",\"am\",\" learning\", \"python\",\" at\",\"takenolab\"]\n",
    "print(len(words))"
   ]
  },
  {
   "cell_type": "code",
   "execution_count": null,
   "id": "fcc50ea4-ea8e-4efa-9dcc-abb8df6a8f3d",
   "metadata": {},
   "outputs": [],
   "source": []
  }
 ],
 "metadata": {
  "kernelspec": {
   "display_name": "Python 3 (ipykernel)",
   "language": "python",
   "name": "python3"
  },
  "language_info": {
   "codemirror_mode": {
    "name": "ipython",
    "version": 3
   },
   "file_extension": ".py",
   "mimetype": "text/x-python",
   "name": "python",
   "nbconvert_exporter": "python",
   "pygments_lexer": "ipython3",
   "version": "3.13.2"
  }
 },
 "nbformat": 4,
 "nbformat_minor": 5
}
